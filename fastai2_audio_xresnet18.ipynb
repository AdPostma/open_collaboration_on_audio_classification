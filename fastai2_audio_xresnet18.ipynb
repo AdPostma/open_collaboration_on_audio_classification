{
  "nbformat": 4,
  "nbformat_minor": 0,
  "metadata": {
    "kernelspec": {
      "name": "python3",
      "display_name": "Python 3"
    },
    "language_info": {
      "codemirror_mode": {
        "name": "ipython",
        "version": 3
      },
      "file_extension": ".py",
      "mimetype": "text/x-python",
      "name": "python",
      "nbconvert_exporter": "python",
      "pygments_lexer": "ipython3",
      "version": "3.7.6"
    },
    "colab": {
      "name": "Coo_Fastai2_Audio.ipynb",
      "provenance": [],
      "collapsed_sections": [],
      "include_colab_link": true
    },
    "accelerator": "GPU"
  },
  "cells": [
    {
      "cell_type": "markdown",
      "metadata": {
        "id": "view-in-github",
        "colab_type": "text"
      },
      "source": [
        "<a href=\"https://colab.research.google.com/github/AdPostma/open_collaboration_on_audio_classification/blob/master/Coo_Fastai2_Audio.ipynb\" target=\"_parent\"><img src=\"https://colab.research.google.com/assets/colab-badge.svg\" alt=\"Open In Colab\"/></a>"
      ]
    },
    {
      "cell_type": "markdown",
      "metadata": {
        "id": "eVUyVIVHjOiN",
        "colab_type": "text"
      },
      "source": [
        "##Maraques Coo calls model with Fastai2_audio \n",
        "\n",
        "Adapted from Fastai2_audio: 02_tutorial. Thanks to rbracco"
      ]
    },
    {
      "cell_type": "markdown",
      "metadata": {
        "id": "Pjq-SLd6pqKL",
        "colab_type": "text"
      },
      "source": [
        ""
      ]
    },
    {
      "cell_type": "code",
      "metadata": {
        "id": "6zBubzcFgdLe",
        "colab_type": "code",
        "colab": {}
      },
      "source": [
        "!pip install git+https://github.com/fastai/fastai2\n",
        "!pip install git+https://github.com/fastai/fastcore\n",
        "!pip install packaging\n",
        "!pip install git+https://github.com/rbracco/fastai2_audio.git"
      ],
      "execution_count": 0,
      "outputs": []
    },
    {
      "cell_type": "code",
      "metadata": {
        "id": "sVg8j4sud4g1",
        "colab_type": "code",
        "colab": {}
      },
      "source": [
        "#hide\n",
        "%reload_ext autoreload\n",
        "%autoreload 2\n",
        "%matplotlib inline"
      ],
      "execution_count": 0,
      "outputs": []
    },
    {
      "cell_type": "code",
      "metadata": {
        "id": "j4LXndMId5Nc",
        "colab_type": "code",
        "colab": {}
      },
      "source": [
        "from fastai2.torch_basics import *\n",
        "from fastai2.basics import *\n",
        "from fastai2.data.all import *\n",
        "from fastai2.callback.all import *\n",
        "from fastai2.vision.all import *\n",
        "\n",
        "from fastai2_audio.core import *\n",
        "from fastai2_audio.augment import *\n",
        "\n",
        "import torchaudio"
      ],
      "execution_count": 0,
      "outputs": []
    },
    {
      "cell_type": "markdown",
      "metadata": {
        "id": "REqKRkcBkSnJ",
        "colab_type": "text"
      },
      "source": [
        "### Loading maraques coo soundfiles 24.4 kHz version"
      ]
    },
    {
      "cell_type": "code",
      "metadata": {
        "id": "L0v40WLOgPC9",
        "colab_type": "code",
        "outputId": "97c77514-ec69-411b-8306-58eb59952e2e",
        "colab": {
          "base_uri": "https://localhost:8080/",
          "height": 17
        }
      },
      "source": [
        "Coo = untar_data('https://storage.googleapis.com/ml-animal-sounds-datasets/macaques_24414Hz.zip')"
      ],
      "execution_count": 0,
      "outputs": [
        {
          "output_type": "display_data",
          "data": {
            "text/html": [
              ""
            ],
            "text/plain": [
              "<IPython.core.display.HTML object>"
            ]
          },
          "metadata": {
            "tags": []
          }
        }
      ]
    },
    {
      "cell_type": "code",
      "metadata": {
        "id": "eCKuekLreXW_",
        "colab_type": "code",
        "colab": {}
      },
      "source": [
        "x = AudioGetter(\"\", recurse=True, folders=None)\n",
        "Coo_files  = x(Coo)"
      ],
      "execution_count": 0,
      "outputs": []
    },
    {
      "cell_type": "markdown",
      "metadata": {
        "id": "XHyq0sn3ks2n",
        "colab_type": "text"
      },
      "source": [
        "### Creating configuration file and item transformations"
      ]
    },
    {
      "cell_type": "code",
      "metadata": {
        "colab_type": "code",
        "id": "7ClI06uyfhTD",
        "colab": {}
      },
      "source": [
        "#crop 750ms from the signal and turn it to a MelSpectrogram with no augmentation\n",
        "cfg_voice = AudioConfig.Voice(sample_rate=24414,n_fft=1024, hop_length=140,f_max=12207)\n",
        "a2s = AudioToSpec.from_cfg(cfg_voice)\n",
        "crop_750ms = CropSignal(750)\n",
        "tfms = [crop_750ms, a2s]"
      ],
      "execution_count": 0,
      "outputs": []
    },
    {
      "cell_type": "markdown",
      "metadata": {
        "id": "oJJY4ut-lbdr",
        "colab_type": "text"
      },
      "source": [
        "### Show example of Mellspectrogram\n",
        "(show_batch() is broken in Fastai-2 Audio)\n"
      ]
    },
    {
      "cell_type": "code",
      "metadata": {
        "colab_type": "code",
        "id": "YCrCY-NIfiVQ",
        "outputId": "4ff8555c-9141-4762-b23c-99453a6e9bd4",
        "colab": {
          "base_uri": "https://localhost:8080/",
          "height": 295
        }
      },
      "source": [
        "pipe = Pipeline([AudioTensor.create, crop_750ms,a2s])\n",
        "pipe(Coo_files[1]).show()"
      ],
      "execution_count": 0,
      "outputs": [
        {
          "output_type": "display_data",
          "data": {
            "image/png": "[encoded data removed]",
            "text/plain": [
              "<Figure size 432x288 with 2 Axes>"
            ]
          },
          "metadata": {
            "tags": []
          }
        }
      ]
    },
    {
      "cell_type": "markdown",
      "metadata": {
        "id": "1h7Ff8hal3j0",
        "colab_type": "text"
      },
      "source": [
        "### Create audio dataloaders"
      ]
    },
    {
      "cell_type": "code",
      "metadata": {
        "id": "KUDSYGdGgZya",
        "colab_type": "code",
        "colab": {}
      },
      "source": [
        "auds = DataBlock(blocks=(AudioBlock, CategoryBlock),  \n",
        "                 get_items=get_audio_files, \n",
        "                 splitter=RandomSplitter(seed=42),\n",
        "                 item_tfms = tfms,\n",
        "                 get_y=lambda x: str(x).split('/')[-1][:2])"
      ],
      "execution_count": 0,
      "outputs": []
    },
    {
      "cell_type": "code",
      "metadata": {
        "id": "qLAX7mKlgZyc",
        "colab_type": "code",
        "colab": {}
      },
      "source": [
        "dbunch = auds.dataloaders(Coo, bs=64)"
      ],
      "execution_count": 0,
      "outputs": []
    },
    {
      "cell_type": "code",
      "metadata": {
        "id": "IZopK-xwgZye",
        "colab_type": "code",
        "outputId": "e9b5f7a3-37b5-4466-aff8-7c8f61ac62e1",
        "colab": {
          "base_uri": "https://localhost:8080/",
          "height": 34
        }
      },
      "source": [
        "dbunch.one_batch()[0].shape"
      ],
      "execution_count": 0,
      "outputs": [
        {
          "output_type": "execute_result",
          "data": {
            "text/plain": [
              "torch.Size([64, 1, 128, 131])"
            ]
          },
          "metadata": {
            "tags": []
          },
          "execution_count": 25
        }
      ]
    },
    {
      "cell_type": "markdown",
      "metadata": {
        "id": "hjyXGBQsmFlP",
        "colab_type": "text"
      },
      "source": [
        "### Create and train learner"
      ]
    },
    {
      "cell_type": "code",
      "metadata": {
        "id": "J43YnCyfgZyh",
        "colab_type": "code",
        "colab": {}
      },
      "source": [
        "# credit to Kevin Bird and Hiromi Suenaga for these two lines to adjust a CNN model to take 1 channel input\n",
        "def alter_learner(learn, channels=1):\n",
        "    learn.model[0][0].in_channels=channels\n",
        "    learn.model[0][0].weight = torch.nn.parameter.Parameter(learn.model[0][0].weight[:,1,:,:].unsqueeze(1))"
      ],
      "execution_count": 0,
      "outputs": []
    },
    {
      "cell_type": "code",
      "metadata": {
        "id": "91eHXUSdgZyk",
        "colab_type": "code",
        "colab": {}
      },
      "source": [
        "learn = Learner(dbunch, \n",
        "                xresnet18(),\n",
        "                torch.nn.CrossEntropyLoss(), \n",
        "                metrics=[error_rate])\n",
        "nchannels = dbunch.one_batch()[0].shape[1]\n",
        "alter_learner(learn, nchannels)"
      ],
      "execution_count": 0,
      "outputs": []
    },
    {
      "cell_type": "code",
      "metadata": {
        "id": "KUOKlZtSgFaX",
        "colab_type": "code",
        "outputId": "fc6fd051-f8a6-4692-832e-259662e3f16b",
        "colab": {
          "base_uri": "https://localhost:8080/",
          "height": 267
        }
      },
      "source": [
        "learn.fine_tune(5)"
      ],
      "execution_count": 0,
      "outputs": [
        {
          "output_type": "display_data",
          "data": {
            "text/html": [
              "<table border=\"1\" class=\"dataframe\">\n",
              "  <thead>\n",
              "    <tr style=\"text-align: left;\">\n",
              "      <th>epoch</th>\n",
              "      <th>train_loss</th>\n",
              "      <th>valid_loss</th>\n",
              "      <th>error_rate</th>\n",
              "      <th>time</th>\n",
              "    </tr>\n",
              "  </thead>\n",
              "  <tbody>\n",
              "    <tr>\n",
              "      <td>0</td>\n",
              "      <td>1.537560</td>\n",
              "      <td>0.407273</td>\n",
              "      <td>0.133150</td>\n",
              "      <td>00:22</td>\n",
              "    </tr>\n",
              "  </tbody>\n",
              "</table>"
            ],
            "text/plain": [
              "<IPython.core.display.HTML object>"
            ]
          },
          "metadata": {
            "tags": []
          }
        },
        {
          "output_type": "display_data",
          "data": {
            "text/html": [
              "<table border=\"1\" class=\"dataframe\">\n",
              "  <thead>\n",
              "    <tr style=\"text-align: left;\">\n",
              "      <th>epoch</th>\n",
              "      <th>train_loss</th>\n",
              "      <th>valid_loss</th>\n",
              "      <th>error_rate</th>\n",
              "      <th>time</th>\n",
              "    </tr>\n",
              "  </thead>\n",
              "  <tbody>\n",
              "    <tr>\n",
              "      <td>0</td>\n",
              "      <td>0.120560</td>\n",
              "      <td>0.192001</td>\n",
              "      <td>0.061084</td>\n",
              "      <td>00:22</td>\n",
              "    </tr>\n",
              "    <tr>\n",
              "      <td>1</td>\n",
              "      <td>0.079518</td>\n",
              "      <td>0.270885</td>\n",
              "      <td>0.096774</td>\n",
              "      <td>00:22</td>\n",
              "    </tr>\n",
              "    <tr>\n",
              "      <td>2</td>\n",
              "      <td>0.034710</td>\n",
              "      <td>0.018015</td>\n",
              "      <td>0.005491</td>\n",
              "      <td>00:22</td>\n",
              "    </tr>\n",
              "    <tr>\n",
              "      <td>3</td>\n",
              "      <td>0.016162</td>\n",
              "      <td>0.012601</td>\n",
              "      <td>0.004118</td>\n",
              "      <td>00:22</td>\n",
              "    </tr>\n",
              "    <tr>\n",
              "      <td>4</td>\n",
              "      <td>0.007578</td>\n",
              "      <td>0.010043</td>\n",
              "      <td>0.002745</td>\n",
              "      <td>00:22</td>\n",
              "    </tr>\n",
              "  </tbody>\n",
              "</table>"
            ],
            "text/plain": [
              "<IPython.core.display.HTML object>"
            ]
          },
          "metadata": {
            "tags": []
          }
        }
      ]
    }
  ]
}